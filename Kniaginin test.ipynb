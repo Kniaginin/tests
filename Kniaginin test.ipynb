{
 "cells": [
  {
   "cell_type": "code",
   "execution_count": 1,
   "id": "83f90aff",
   "metadata": {},
   "outputs": [],
   "source": [
    "import psycopg2\n",
    "import pandas as pd\n",
    "conn = psycopg2.connect(database=\"bw\", user=\"user9\",\n",
    "    password=\"Y7aMlL1x\", host=\"88.212.254.23\", port=5432)"
   ]
  },
  {
   "cell_type": "code",
   "execution_count": 2,
   "id": "636f56f2",
   "metadata": {},
   "outputs": [],
   "source": [
    "cur = conn.cursor()"
   ]
  },
  {
   "cell_type": "markdown",
   "id": "af55ad6a",
   "metadata": {},
   "source": [
    "since there is no lead creation data, let's consider the first payment date to be the Lead Creation milestone "
   ]
  },
  {
   "cell_type": "code",
   "execution_count": 4,
   "id": "205a2dd8",
   "metadata": {},
   "outputs": [],
   "source": [
    "cur.execute(\"\"\"\n",
    "            with first_payments as (\n",
    "                select client_id, min(payment_date) as first_date\n",
    "                from marketing_payments\n",
    "                group by client_id\n",
    "            ),\n",
    "            attr as (\n",
    "                select distinct v.client_id, \n",
    "                first_value(concat(raw_source_medium, ' | ', raw_campaign)) over(partition by v.client_id order by created_at) as first_channel,\n",
    "                last_value(concat(raw_source_medium, ' | ', raw_campaign)) over(partition by v.client_id order by created_at) as last_channel\n",
    "                from marketing_visits v\n",
    "                join first_payments p on v.client_id = p.client_id and cast(v.created_at as date) <= p.first_date\n",
    "            ),\n",
    "            cte as (\n",
    "                select payment_amount/2 as payment_amount, first_channel as channel\n",
    "                from marketing_payments p join attr on p.client_id = attr.client_id\n",
    "                union all\n",
    "                select payment_amount/2 as payment_amount, last_channel as channel\n",
    "                from marketing_payments p join attr on p.client_id = attr.client_id\n",
    "                )\n",
    "            select channel, sum(payment_amount) as amount\n",
    "            from cte\n",
    "            group by channel\n",
    "            order by amount desc\n",
    "            \"\"\")\n",
    "df = pd.DataFrame(cur.fetchall(), columns=['channel', 'payment_amount'])"
   ]
  },
  {
   "cell_type": "code",
   "execution_count": 9,
   "id": "bece4422",
   "metadata": {},
   "outputs": [
    {
     "data": {
      "text/html": [
       "<div>\n",
       "<style scoped>\n",
       "    .dataframe tbody tr th:only-of-type {\n",
       "        vertical-align: middle;\n",
       "    }\n",
       "\n",
       "    .dataframe tbody tr th {\n",
       "        vertical-align: top;\n",
       "    }\n",
       "\n",
       "    .dataframe thead th {\n",
       "        text-align: right;\n",
       "    }\n",
       "</style>\n",
       "<table border=\"1\" class=\"dataframe\">\n",
       "  <thead>\n",
       "    <tr style=\"text-align: right;\">\n",
       "      <th></th>\n",
       "      <th>channel</th>\n",
       "      <th>payment_amount</th>\n",
       "    </tr>\n",
       "  </thead>\n",
       "  <tbody>\n",
       "    <tr>\n",
       "      <th>0</th>\n",
       "      <td>google / organic | (not set)</td>\n",
       "      <td>4426.662501</td>\n",
       "    </tr>\n",
       "    <tr>\n",
       "      <th>1</th>\n",
       "      <td>(direct) / (none) | (not set)</td>\n",
       "      <td>2799.107489</td>\n",
       "    </tr>\n",
       "    <tr>\n",
       "      <th>2</th>\n",
       "      <td>google / cpc | top_style_jeans_search</td>\n",
       "      <td>990.961008</td>\n",
       "    </tr>\n",
       "    <tr>\n",
       "      <th>3</th>\n",
       "      <td>google / cpc | top_style_all_search</td>\n",
       "      <td>737.875174</td>\n",
       "    </tr>\n",
       "    <tr>\n",
       "      <th>4</th>\n",
       "      <td>facebook / post | were-happy-to-announce-we-ha...</td>\n",
       "      <td>356.277030</td>\n",
       "    </tr>\n",
       "    <tr>\n",
       "      <th>5</th>\n",
       "      <td>mail.google.com / referral | (not set)</td>\n",
       "      <td>341.550306</td>\n",
       "    </tr>\n",
       "    <tr>\n",
       "      <th>6</th>\n",
       "      <td>xero.com / referral | (not set)</td>\n",
       "      <td>282.711842</td>\n",
       "    </tr>\n",
       "    <tr>\n",
       "      <th>7</th>\n",
       "      <td>google / cpc | top_style_2024_search</td>\n",
       "      <td>245.692250</td>\n",
       "    </tr>\n",
       "    <tr>\n",
       "      <th>8</th>\n",
       "      <td>google / cpc | hoodie_target_pullover_asia_search</td>\n",
       "      <td>223.863323</td>\n",
       "    </tr>\n",
       "    <tr>\n",
       "      <th>9</th>\n",
       "      <td>google / cpc | hoodie_target_pullover_all2_search</td>\n",
       "      <td>187.444817</td>\n",
       "    </tr>\n",
       "    <tr>\n",
       "      <th>10</th>\n",
       "      <td>google / cpc | top_style_ind_search</td>\n",
       "      <td>179.406825</td>\n",
       "    </tr>\n",
       "    <tr>\n",
       "      <th>11</th>\n",
       "      <td>google / cpc | top_fashion_events_remarketing_...</td>\n",
       "      <td>146.186449</td>\n",
       "    </tr>\n",
       "    <tr>\n",
       "      <th>12</th>\n",
       "      <td>linkedin / post | pullover-government-announce...</td>\n",
       "      <td>136.768602</td>\n",
       "    </tr>\n",
       "    <tr>\n",
       "      <th>13</th>\n",
       "      <td>stage.my.osome.club / referral | (not set)</td>\n",
       "      <td>123.204463</td>\n",
       "    </tr>\n",
       "    <tr>\n",
       "      <th>14</th>\n",
       "      <td>google / cpc | hoodie_remarketing_pullover_15days</td>\n",
       "      <td>112.601818</td>\n",
       "    </tr>\n",
       "    <tr>\n",
       "      <th>15</th>\n",
       "      <td>google / cpc | hoodie_target_2020_all_search</td>\n",
       "      <td>98.496164</td>\n",
       "    </tr>\n",
       "    <tr>\n",
       "      <th>16</th>\n",
       "      <td>a2xclothes.com / referral | (not set)</td>\n",
       "      <td>93.865355</td>\n",
       "    </tr>\n",
       "    <tr>\n",
       "      <th>17</th>\n",
       "      <td>osome.style / referral | (not set)</td>\n",
       "      <td>89.076372</td>\n",
       "    </tr>\n",
       "    <tr>\n",
       "      <th>18</th>\n",
       "      <td>drip / email | after_welcome</td>\n",
       "      <td>81.488564</td>\n",
       "    </tr>\n",
       "    <tr>\n",
       "      <th>19</th>\n",
       "      <td>google / cpc | best_trendsmerce_clothes_2024_s...</td>\n",
       "      <td>80.461618</td>\n",
       "    </tr>\n",
       "    <tr>\n",
       "      <th>20</th>\n",
       "      <td>google / cpc | hoodie_target_pullover_ind_search</td>\n",
       "      <td>71.699594</td>\n",
       "    </tr>\n",
       "    <tr>\n",
       "      <th>21</th>\n",
       "      <td>ocbc.com / referral | (not set)</td>\n",
       "      <td>64.932576</td>\n",
       "    </tr>\n",
       "    <tr>\n",
       "      <th>22</th>\n",
       "      <td>google / cpc | hoodie_competitors_jeans_search</td>\n",
       "      <td>53.048559</td>\n",
       "    </tr>\n",
       "    <tr>\n",
       "      <th>23</th>\n",
       "      <td>google / cpc | clothes_style_search</td>\n",
       "      <td>45.653896</td>\n",
       "    </tr>\n",
       "    <tr>\n",
       "      <th>24</th>\n",
       "      <td>google / cpc | hoodie_rose_jeans_search</td>\n",
       "      <td>44.654519</td>\n",
       "    </tr>\n",
       "    <tr>\n",
       "      <th>25</th>\n",
       "      <td>fashion_jeans / referral | fashion-jeans</td>\n",
       "      <td>42.308528</td>\n",
       "    </tr>\n",
       "    <tr>\n",
       "      <th>26</th>\n",
       "      <td>(not set) / (not set) | (not set)</td>\n",
       "      <td>37.896421</td>\n",
       "    </tr>\n",
       "    <tr>\n",
       "      <th>27</th>\n",
       "      <td>yahoo / organic | (not set)</td>\n",
       "      <td>34.846145</td>\n",
       "    </tr>\n",
       "    <tr>\n",
       "      <th>28</th>\n",
       "      <td>drip / email | Osome| We're ready, when you ar...</td>\n",
       "      <td>34.172377</td>\n",
       "    </tr>\n",
       "    <tr>\n",
       "      <th>29</th>\n",
       "      <td>fashion_jeans / referral | fashion_jeans</td>\n",
       "      <td>33.378422</td>\n",
       "    </tr>\n",
       "    <tr>\n",
       "      <th>30</th>\n",
       "      <td>google / cpc | black_general_pullover_all_search</td>\n",
       "      <td>32.297560</td>\n",
       "    </tr>\n",
       "    <tr>\n",
       "      <th>31</th>\n",
       "      <td>facebook / cpc | trends_jeans_tomi_control</td>\n",
       "      <td>31.056777</td>\n",
       "    </tr>\n",
       "    <tr>\n",
       "      <th>32</th>\n",
       "      <td>youtube.com / referral | (not set)</td>\n",
       "      <td>26.939945</td>\n",
       "    </tr>\n",
       "    <tr>\n",
       "      <th>33</th>\n",
       "      <td>google / cpc | best_trendsmerce_bookeeping_202...</td>\n",
       "      <td>26.873753</td>\n",
       "    </tr>\n",
       "    <tr>\n",
       "      <th>34</th>\n",
       "      <td>quora.com / referral | (not set)</td>\n",
       "      <td>25.344309</td>\n",
       "    </tr>\n",
       "    <tr>\n",
       "      <th>35</th>\n",
       "      <td>google / cpc | hoodie_target_2020_eu_search</td>\n",
       "      <td>20.360477</td>\n",
       "    </tr>\n",
       "    <tr>\n",
       "      <th>36</th>\n",
       "      <td>osome.onelink.me / referral | (not set)</td>\n",
       "      <td>18.997494</td>\n",
       "    </tr>\n",
       "    <tr>\n",
       "      <th>37</th>\n",
       "      <td>l.facebook.com / referral | (not set)</td>\n",
       "      <td>18.479264</td>\n",
       "    </tr>\n",
       "    <tr>\n",
       "      <th>38</th>\n",
       "      <td>google / cpc | black_general_jeans_search</td>\n",
       "      <td>17.864007</td>\n",
       "    </tr>\n",
       "    <tr>\n",
       "      <th>39</th>\n",
       "      <td>media / ocbc.com | green_webpage</td>\n",
       "      <td>17.434882</td>\n",
       "    </tr>\n",
       "    <tr>\n",
       "      <th>40</th>\n",
       "      <td>google / cpc | hoodie_rlsa_jeans_search</td>\n",
       "      <td>15.500327</td>\n",
       "    </tr>\n",
       "    <tr>\n",
       "      <th>41</th>\n",
       "      <td>Facebook / TR Newcampus | TR Newcampus</td>\n",
       "      <td>9.928914</td>\n",
       "    </tr>\n",
       "    <tr>\n",
       "      <th>42</th>\n",
       "      <td>quiz.marquiz.io / referral | (not set)</td>\n",
       "      <td>6.288118</td>\n",
       "    </tr>\n",
       "    <tr>\n",
       "      <th>43</th>\n",
       "      <td>google / cpc | [ad]_global_en_oso_sem_web_lead...</td>\n",
       "      <td>5.166776</td>\n",
       "    </tr>\n",
       "  </tbody>\n",
       "</table>\n",
       "</div>"
      ],
      "text/plain": [
       "                                              channel  payment_amount\n",
       "0                        google / organic | (not set)     4426.662501\n",
       "1                       (direct) / (none) | (not set)     2799.107489\n",
       "2               google / cpc | top_style_jeans_search      990.961008\n",
       "3                 google / cpc | top_style_all_search      737.875174\n",
       "4   facebook / post | were-happy-to-announce-we-ha...      356.277030\n",
       "5              mail.google.com / referral | (not set)      341.550306\n",
       "6                     xero.com / referral | (not set)      282.711842\n",
       "7                google / cpc | top_style_2024_search      245.692250\n",
       "8   google / cpc | hoodie_target_pullover_asia_search      223.863323\n",
       "9   google / cpc | hoodie_target_pullover_all2_search      187.444817\n",
       "10                google / cpc | top_style_ind_search      179.406825\n",
       "11  google / cpc | top_fashion_events_remarketing_...      146.186449\n",
       "12  linkedin / post | pullover-government-announce...      136.768602\n",
       "13         stage.my.osome.club / referral | (not set)      123.204463\n",
       "14  google / cpc | hoodie_remarketing_pullover_15days      112.601818\n",
       "15       google / cpc | hoodie_target_2020_all_search       98.496164\n",
       "16              a2xclothes.com / referral | (not set)       93.865355\n",
       "17                 osome.style / referral | (not set)       89.076372\n",
       "18                       drip / email | after_welcome       81.488564\n",
       "19  google / cpc | best_trendsmerce_clothes_2024_s...       80.461618\n",
       "20   google / cpc | hoodie_target_pullover_ind_search       71.699594\n",
       "21                    ocbc.com / referral | (not set)       64.932576\n",
       "22     google / cpc | hoodie_competitors_jeans_search       53.048559\n",
       "23                google / cpc | clothes_style_search       45.653896\n",
       "24            google / cpc | hoodie_rose_jeans_search       44.654519\n",
       "25           fashion_jeans / referral | fashion-jeans       42.308528\n",
       "26                  (not set) / (not set) | (not set)       37.896421\n",
       "27                        yahoo / organic | (not set)       34.846145\n",
       "28  drip / email | Osome| We're ready, when you ar...       34.172377\n",
       "29           fashion_jeans / referral | fashion_jeans       33.378422\n",
       "30   google / cpc | black_general_pullover_all_search       32.297560\n",
       "31         facebook / cpc | trends_jeans_tomi_control       31.056777\n",
       "32                 youtube.com / referral | (not set)       26.939945\n",
       "33  google / cpc | best_trendsmerce_bookeeping_202...       26.873753\n",
       "34                   quora.com / referral | (not set)       25.344309\n",
       "35        google / cpc | hoodie_target_2020_eu_search       20.360477\n",
       "36            osome.onelink.me / referral | (not set)       18.997494\n",
       "37              l.facebook.com / referral | (not set)       18.479264\n",
       "38          google / cpc | black_general_jeans_search       17.864007\n",
       "39                   media / ocbc.com | green_webpage       17.434882\n",
       "40            google / cpc | hoodie_rlsa_jeans_search       15.500327\n",
       "41             Facebook / TR Newcampus | TR Newcampus        9.928914\n",
       "42             quiz.marquiz.io / referral | (not set)        6.288118\n",
       "43  google / cpc | [ad]_global_en_oso_sem_web_lead...        5.166776"
      ]
     },
     "execution_count": 9,
     "metadata": {},
     "output_type": "execute_result"
    }
   ],
   "source": [
    "df"
   ]
  },
  {
   "cell_type": "markdown",
   "id": "f20c663a",
   "metadata": {},
   "source": [
    "We can see that the most profitable source is organic (both the first and the second channels in the table) - 58% of revenue.\n",
    "\n",
    "This is partially explained by the attribution. People tend to go directly to the website more often when they have been there before. So if the attribution was purely first click we could have seen a smaller share."
   ]
  },
  {
   "cell_type": "code",
   "execution_count": 58,
   "id": "547144bb",
   "metadata": {},
   "outputs": [
    {
     "data": {
      "text/plain": [
       "0.5795068609667563"
      ]
     },
     "execution_count": 58,
     "metadata": {},
     "output_type": "execute_result"
    }
   ],
   "source": [
    "df.payment_amount.iloc[:2].sum()/df.payment_amount.sum()"
   ]
  },
  {
   "cell_type": "markdown",
   "id": "bc2ff6ef",
   "metadata": {},
   "source": [
    "The second most profitable source is advertising. Together with organics they bring around 85% of revenue"
   ]
  },
  {
   "cell_type": "code",
   "execution_count": 63,
   "id": "0c5f91c2",
   "metadata": {},
   "outputs": [
    {
     "data": {
      "text/plain": [
       "0.26755598468897324"
      ]
     },
     "execution_count": 63,
     "metadata": {},
     "output_type": "execute_result"
    }
   ],
   "source": [
    "df[df.channel.apply(lambda x: 'google / cpc' in x)].payment_amount.sum()/df.payment_amount.sum()"
   ]
  },
  {
   "cell_type": "markdown",
   "id": "325fe11f",
   "metadata": {},
   "source": [
    "Now let's compute monthly data (I will aggregate monthly with an offset to get comparable numbers)"
   ]
  },
  {
   "cell_type": "code",
   "execution_count": 6,
   "id": "3a4667f0",
   "metadata": {},
   "outputs": [],
   "source": [
    "cur.execute(\"\"\"\n",
    "            with first_payments as (\n",
    "                select client_id, min(payment_date) as first_date\n",
    "                from marketing_payments\n",
    "                group by client_id\n",
    "            ),\n",
    "            attr as (\n",
    "                select distinct v.client_id, \n",
    "                first_value(concat(raw_source_medium, ' | ', raw_campaign)) over(partition by v.client_id order by created_at) as first_channel,\n",
    "                last_value(concat(raw_source_medium, ' | ', raw_campaign)) over(partition by v.client_id order by created_at) as last_channel\n",
    "                from marketing_visits v\n",
    "                join first_payments p on v.client_id = p.client_id and cast(v.created_at as date) <= p.first_date\n",
    "            ),\n",
    "            cte as (\n",
    "                select payment_amount/2 as payment_amount, payment_date, first_channel as channel\n",
    "                from marketing_payments p join attr on p.client_id = attr.client_id\n",
    "                union all\n",
    "                select payment_amount/2 as payment_amount, payment_date, last_channel as channel\n",
    "                from marketing_payments p join attr on p.client_id = attr.client_id\n",
    "                )\n",
    "            select case when payment_date >= (select max(payment_date) - interval '1 months' from marketing_payments) then '3 month'\n",
    "            when payment_date >= (select max(payment_date) - interval '2 months' from marketing_payments) then '2 month' else '1 month' end as payment_period, \n",
    "            channel, sum(payment_amount) as amount\n",
    "            from cte\n",
    "            where payment_date >= (select max(payment_date) - interval '3 months' from marketing_payments)\n",
    "            group by payment_period, channel\n",
    "            order by payment_period asc, amount desc\n",
    "            \"\"\")\n",
    "df_weekly = pd.DataFrame(cur.fetchall(), columns=['month','channel', 'payment_amount'])"
   ]
  },
  {
   "cell_type": "markdown",
   "id": "dda4096b",
   "metadata": {},
   "source": [
    "The trend seems to be unstable but still good considering the last month"
   ]
  },
  {
   "cell_type": "code",
   "execution_count": 7,
   "id": "fdd5b83b",
   "metadata": {},
   "outputs": [
    {
     "data": {
      "text/plain": [
       "<AxesSubplot:xlabel='month'>"
      ]
     },
     "execution_count": 7,
     "metadata": {},
     "output_type": "execute_result"
    },
    {
     "data": {
      "image/png": "[encoded data removed]",
      "text/plain": [
       "<Figure size 432x288 with 1 Axes>"
      ]
     },
     "metadata": {
      "needs_background": "light"
     },
     "output_type": "display_data"
    }
   ],
   "source": [
    "df_weekly.groupby('month').sum().payment_amount.plot()"
   ]
  },
  {
   "cell_type": "markdown",
   "id": "b1147da1",
   "metadata": {},
   "source": [
    "If we focus on advertising we can see that the trend there is better"
   ]
  },
  {
   "cell_type": "code",
   "execution_count": 111,
   "id": "bd70ac74",
   "metadata": {},
   "outputs": [
    {
     "data": {
      "text/plain": [
       "<AxesSubplot:xlabel='month'>"
      ]
     },
     "execution_count": 111,
     "metadata": {},
     "output_type": "execute_result"
    },
    {
     "data": {
      "image/png": "[encoded data removed]",
      "text/plain": [
       "<Figure size 432x288 with 1 Axes>"
      ]
     },
     "metadata": {
      "needs_background": "light"
     },
     "output_type": "display_data"
    }
   ],
   "source": [
    "df_weekly[df_weekly.channel.apply(lambda x: 'google / cpc' in x)].groupby('month').sum().payment_amount.plot()"
   ]
  },
  {
   "cell_type": "code",
   "execution_count": 45,
   "id": "80f3e49b",
   "metadata": {},
   "outputs": [],
   "source": [
    "cur.close()"
   ]
  }
 ],
 "metadata": {
  "kernelspec": {
   "display_name": "Python 3 (ipykernel)",
   "language": "python",
   "name": "python3"
  },
  "language_info": {
   "codemirror_mode": {
    "name": "ipython",
    "version": 3
   },
   "file_extension": ".py",
   "mimetype": "text/x-python",
   "name": "python",
   "nbconvert_exporter": "python",
   "pygments_lexer": "ipython3",
   "version": "3.9.7"
  }
 },
 "nbformat": 4,
 "nbformat_minor": 5
}
